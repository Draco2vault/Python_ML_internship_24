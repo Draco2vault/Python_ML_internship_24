{
 "cells": [
  {
   "cell_type": "code",
   "execution_count": 8,
   "id": "16c8fd57-f226-4c5b-9b0e-4b83c13f9ea1",
   "metadata": {},
   "outputs": [
    {
     "name": "stdin",
     "output_type": "stream",
     "text": [
      " 1 12 32 13 \n"
     ]
    },
    {
     "name": "stdout",
     "output_type": "stream",
     "text": [
      "[1, 12, 32, 13]\n"
     ]
    }
   ],
   "source": [
    "\n",
    "l = list(map(int,input().split()))\n",
    "\n",
    "print(l)\n"
   ]
  },
  {
   "cell_type": "code",
   "execution_count": 11,
   "id": "b8b3b94d-3c0f-4c4f-959b-28606c56a28c",
   "metadata": {},
   "outputs": [
    {
     "name": "stdout",
     "output_type": "stream",
     "text": [
      "11\n",
      "22\n",
      "this is fun1 from class B\n"
     ]
    }
   ],
   "source": [
    "class A: \n",
    "    def __init__(self):\n",
    "        self.a = 10\n",
    "        self.b = 20\n",
    "    def fun1(self):\n",
    "        print(\"this is fun1 from class A\")\n",
    "\n",
    "class B: \n",
    "    def __init__(self):\n",
    "        self.a = 11\n",
    "        self.b = 22\n",
    "    def fun1(self):\n",
    "        print(\"this is fun1 from class B\")\n",
    "\n",
    "\n",
    "if __name__==\"__main__\":\n",
    "    obj = B()\n",
    "\n",
    "    print(obj.a)\n",
    "    print(obj.b)\n",
    "    obj.fun1()\n",
    "    "
   ]
  },
  {
   "cell_type": "code",
   "execution_count": null,
   "id": "5fc7ee7b-46aa-4b88-af67-368122261e49",
   "metadata": {},
   "outputs": [],
   "source": []
  }
 ],
 "metadata": {
  "kernelspec": {
   "display_name": "Python 3 (ipykernel)",
   "language": "python",
   "name": "python3"
  },
  "language_info": {
   "codemirror_mode": {
    "name": "ipython",
    "version": 3
   },
   "file_extension": ".py",
   "mimetype": "text/x-python",
   "name": "python",
   "nbconvert_exporter": "python",
   "pygments_lexer": "ipython3",
   "version": "3.12.4"
  }
 },
 "nbformat": 4,
 "nbformat_minor": 5
}
