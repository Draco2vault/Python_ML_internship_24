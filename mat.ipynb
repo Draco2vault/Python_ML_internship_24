{
 "cells": [
  {
   "cell_type": "code",
   "execution_count": 9,
   "id": "f49cd531-5208-486b-abd7-3058e70dab69",
   "metadata": {},
   "outputs": [
    {
     "name": "stdout",
     "output_type": "stream",
     "text": [
      "Adding items:\n"
     ]
    },
    {
     "name": "stdin",
     "output_type": "stream",
     "text": [
      "Enter item ID:  1\n",
      "Enter item name:  cake \n",
      "Enter item brand:  draco \n",
      "Enter item ID:  2\n",
      "Enter item name:  wowo\n",
      "Enter item brand:  zarks\n"
     ]
    },
    {
     "name": "stdout",
     "output_type": "stream",
     "text": [
      "\n",
      "Items in inventory:\n",
      "   ID   Name   Brand\n",
      "0   1  cake   draco \n",
      "   ID  Name  Brand\n",
      "0   2  wowo  zarks\n"
     ]
    },
    {
     "name": "stdin",
     "output_type": "stream",
     "text": [
      "\n",
      "Enter the ID of the item to remove:  3\n"
     ]
    },
    {
     "name": "stdout",
     "output_type": "stream",
     "text": [
      "Item with ID not found.\n",
      "\n",
      "Items remaining in inventory:\n",
      "   ID   Name   Brand\n",
      "0   1  cake   draco \n",
      "   ID  Name  Brand\n",
      "0   2  wowo  zarks\n"
     ]
    }
   ],
   "source": [
    "import pandas as pd\n",
    "\n",
    "class EQIP:\n",
    "    def __init__(self):\n",
    "        self.eid = 0\n",
    "        self.name = ''\n",
    "        self.brande = ''\n",
    "\n",
    "    def add_item(self):\n",
    "        self.eid = int(input(\"Enter item ID: \"))\n",
    "        self.name = input(\"Enter item name: \")\n",
    "        self.brande = input(\"Enter item brand: \")\n",
    "\n",
    "    def to_dict(self):\n",
    "        return {\n",
    "            'ID': self.eid,\n",
    "            'Name': self.name,\n",
    "            'Brand': self.brande\n",
    "        }\n",
    "\n",
    "    def display_item(self):\n",
    "        item_dict = self.to_dict()\n",
    "        df = pd.DataFrame([item_dict])\n",
    "        print(df)\n",
    "\n",
    "class Inventory:\n",
    "    def __init__(self):\n",
    "        self.items = []\n",
    "\n",
    "    def add_item(self):\n",
    "        item = EQIP()\n",
    "        item.add_item()\n",
    "        self.items.append(item)\n",
    "\n",
    "    def delete_item_by_id(self, item_id):\n",
    "        for item in self.items:\n",
    "            if item.eid == item_id:\n",
    "                deleted_item_dict = item.to_dict()\n",
    "                df = pd.DataFrame([deleted_item_dict])\n",
    "                print(\"Deleted item:\")\n",
    "                print(df)\n",
    "                self.items.remove(item)\n",
    "                return  \n",
    "        print(\"Item with ID not found.\")\n",
    "\n",
    "    def display_items(self):\n",
    "        if not self.items:\n",
    "            print(\"No items in inventory.\")\n",
    "            return\n",
    "        for item in self.items:\n",
    "            item.display_item()\n",
    "\n",
    "\n",
    "inventory = Inventory()\n",
    "\n",
    "\n",
    "print(\"Adding items:\")\n",
    "inventory.add_item()\n",
    "inventory.add_item()\n",
    "\n",
    "\n",
    "print(\"\\nItems in inventory:\")\n",
    "inventory.display_items()\n",
    "\n",
    "\n",
    "item_id_to_remove = int(input(\"\\nEnter the ID of the item to remove: \"))\n",
    "inventory.delete_item_by_id(item_id_to_remove)\n",
    "\n",
    "\n",
    "print(\"\\nItems remaining in inventory:\")\n",
    "inventory.display_items()\n"
   ]
  },
  {
   "cell_type": "code",
   "execution_count": null,
   "id": "a1d8cb73-28d8-4801-b644-077c92be3f57",
   "metadata": {},
   "outputs": [],
   "source": []
  }
 ],
 "metadata": {
  "kernelspec": {
   "display_name": "Python 3 (ipykernel)",
   "language": "python",
   "name": "python3"
  },
  "language_info": {
   "codemirror_mode": {
    "name": "ipython",
    "version": 3
   },
   "file_extension": ".py",
   "mimetype": "text/x-python",
   "name": "python",
   "nbconvert_exporter": "python",
   "pygments_lexer": "ipython3",
   "version": "3.12.4"
  }
 },
 "nbformat": 4,
 "nbformat_minor": 5
}
