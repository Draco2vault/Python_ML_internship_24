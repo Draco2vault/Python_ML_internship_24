{
 "cells": [
  {
   "cell_type": "code",
   "execution_count": 2,
   "id": "f49cd531-5208-486b-abd7-3058e70dab69",
   "metadata": {},
   "outputs": [
    {
     "name": "stdout",
     "output_type": "stream",
     "text": [
      "    *\n",
      "   **\n",
      "  ***\n",
      " ****\n",
      "*****\n"
     ]
    }
   ],
   "source": [
    "\n",
    "def print_right_side_half_triangle(height):\n",
    "    for i in range(1, height + 1):\n",
    "        \n",
    "        print(' ' * (height - i) + '*' * i)\n",
    "\n",
    "\n",
    "height = 5\n",
    "\n",
    "print_right_side_half_triangle(height)\n"
   ]
  },
  {
   "cell_type": "code",
   "execution_count": null,
   "id": "ad7183be-e92e-4e3b-8967-216ae5d1c11e",
   "metadata": {},
   "outputs": [],
   "source": [
    "def get_number(prompt):\n",
    "    while True:\n",
    "        try:\n",
    "           \n",
    "            return float(input(prompt))\n",
    "        except ValueError:\n",
    "            \n",
    "            print(\"Invalid input. Please enter a valid number.\")\n",
    "\n",
    "def perform_division():\n",
    "    while True:\n",
    "        try:\n",
    "           \n",
    "            numerator = get_number(\"Enter the numerator: \")\n",
    "            denominator = get_number(\"Enter the denominator: \")\n",
    "            \n",
    "            \n",
    "            result = numerator / denominator\n",
    "            \n",
    "          \n",
    "            print(f\"The result of {numerator} divided by {denominator} is {result:.2f}\")\n",
    "            break \n",
    "        \n",
    "        except ZeroDivisionError:\n",
    "           \n",
    "            print(\"Error: Division by zero is not allowed. Please try again.\")\n",
    "\n",
    "if __name__ == \"__main__\":\n",
    "    perform_division()\n"
   ]
  },
  {
   "cell_type": "code",
   "execution_count": null,
   "id": "4d02b9a4-a7b7-4824-8433-9b81c0291cd1",
   "metadata": {},
   "outputs": [],
   "source": []
  }
 ],
 "metadata": {
  "kernelspec": {
   "display_name": "Python 3 (ipykernel)",
   "language": "python",
   "name": "python3"
  },
  "language_info": {
   "codemirror_mode": {
    "name": "ipython",
    "version": 3
   },
   "file_extension": ".py",
   "mimetype": "text/x-python",
   "name": "python",
   "nbconvert_exporter": "python",
   "pygments_lexer": "ipython3",
   "version": "3.12.4"
  }
 },
 "nbformat": 4,
 "nbformat_minor": 5
}
