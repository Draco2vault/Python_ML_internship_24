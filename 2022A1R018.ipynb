{
 "cells": [
  {
   "cell_type": "code",
   "execution_count": 4,
   "id": "f49cd531-5208-486b-abd7-3058e70dab69",
   "metadata": {},
   "outputs": [
    {
     "name": "stdout",
     "output_type": "stream",
     "text": [
      "    *\n",
      "   **\n",
      "  ***\n",
      " ****\n",
      "*****\n"
     ]
    }
   ],
   "source": [
    "\n",
    "height = 5\n",
    "\n",
    "for i in range(height):\n",
    "   \n",
    "    for j in range(height - i - 1):\n",
    "        print(' ', end='')\n",
    "\n",
    "    for k in range(i + 1):\n",
    "        print('*', end='')\n",
    "    print()\n"
   ]
  },
  {
   "cell_type": "code",
   "execution_count": 3,
   "id": "ad7183be-e92e-4e3b-8967-216ae5d1c11e",
   "metadata": {},
   "outputs": [
    {
     "name": "stdin",
     "output_type": "stream",
     "text": [
      "Enter the numerator:  2\n",
      "Enter the denominator:  4\n"
     ]
    },
    {
     "name": "stdout",
     "output_type": "stream",
     "text": [
      "The result of 2.0 divided by 4.0 is 0.50\n"
     ]
    }
   ],
   "source": [
    "def get_number(prompt):\n",
    "    while True:\n",
    "        try:\n",
    "           \n",
    "            return float(input(prompt))\n",
    "        except ValueError:\n",
    "            \n",
    "            print(\"Invalid input. Please enter a valid number.\")\n",
    "\n",
    "def perform_division():\n",
    "    while True:\n",
    "        try:\n",
    "           \n",
    "            numerator = get_number(\"Enter the numerator: \")\n",
    "            denominator = get_number(\"Enter the denominator: \")\n",
    "            \n",
    "            \n",
    "            result = numerator / denominator\n",
    "            \n",
    "          \n",
    "            print(f\"The result of {numerator} divided by {denominator} is {result:.2f}\")\n",
    "            break \n",
    "        \n",
    "        except ZeroDivisionError:\n",
    "           \n",
    "            print(\"Error: Division by zero is not allowed. Please try again.\")\n",
    "\n",
    "if __name__ == \"__main__\":\n",
    "    perform_division()\n"
   ]
  },
  {
   "cell_type": "code",
   "execution_count": null,
   "id": "4d02b9a4-a7b7-4824-8433-9b81c0291cd1",
   "metadata": {},
   "outputs": [],
   "source": []
  }
 ],
 "metadata": {
  "kernelspec": {
   "display_name": "Python 3 (ipykernel)",
   "language": "python",
   "name": "python3"
  },
  "language_info": {
   "codemirror_mode": {
    "name": "ipython",
    "version": 3
   },
   "file_extension": ".py",
   "mimetype": "text/x-python",
   "name": "python",
   "nbconvert_exporter": "python",
   "pygments_lexer": "ipython3",
   "version": "3.12.4"
  }
 },
 "nbformat": 4,
 "nbformat_minor": 5
}
